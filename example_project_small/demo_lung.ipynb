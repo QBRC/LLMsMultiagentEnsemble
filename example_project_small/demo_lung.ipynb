{
 "cells": [
  {
   "cell_type": "markdown",
   "id": "a4f5fa62-1707-42f1-9ce4-816ea841720f",
   "metadata": {},
   "source": [
    "# Alt 1: Run EnsemLLMs step-by-step\n",
    "Use this option, if postprocessing (after LLM response) needed."
   ]
  },
  {
   "cell_type": "code",
   "execution_count": 1,
   "id": "a7265b36-5ff4-4f24-8c24-642cb5ae54e9",
   "metadata": {},
   "outputs": [
    {
     "name": "stdout",
     "output_type": "stream",
     "text": [
      "Home: /project/DPDS/Xiao_lab/s221963/work/2025_LLMsAgents/example_project_small\n",
      "['llama31-70b_P07', 'qwen2-72b_P07', 'gpt-4.1-mini_P07', 'gpt-4o-mini_P07', 'medgemma27b_P07']\n"
     ]
    }
   ],
   "source": [
    "import pandas as pd\n",
    "\n",
    "%run setup.py    \n",
    "from ensemble_llms_app import run\n",
    "\n",
    "# load config for EnsemLLMs app\n",
    "ensemLLMs = run('init')"
   ]
  },
  {
   "cell_type": "code",
   "execution_count": 2,
   "id": "960c077b-55b9-4d0c-9d08-6d609097914b",
   "metadata": {},
   "outputs": [
    {
     "name": "stdout",
     "output_type": "stream",
     "text": [
      "Start at: 2025-08-31 00:51:52.259262\n",
      "LLM agent app home: /project/DPDS/Xiao_lab/s221963/work/2025_LLMsAgents/example_project_small/llama31-70b_P07\n",
      "Model: llama31-70b\n",
      "Dataset: lung\n",
      "Start at: 2025-08-31 00:51:52.441769\n",
      "11:  TCGA-38-4630  \n",
      "End at: 2025-08-31 00:55:46.793179\n",
      "Elapsed time: 3.905857 minutes (234.351409 seconds).\n",
      "\n",
      "Failed requests: []\n",
      "Failed json loading: 0\n",
      "[]\n",
      "Input Tokens: 16801\n",
      "Output Tokens: 5190\n",
      "Total Tokens: 21991\n",
      "Model llama3.1:70b is not in the cost list.\n",
      "\n",
      "The output csv file saved to /project/DPDS/Xiao_lab/s221963/work/2025_LLMsAgents/example_project_small/llama31-70b_P07/data/lung_llama31-70b_P07.csv.\n",
      "Computing with llama31-70b for lung succeed.\n",
      "\n",
      "LLM agent app home: /project/DPDS/Xiao_lab/s221963/work/2025_LLMsAgents/example_project_small/qwen2-72b_P07\n",
      "Model: qwen2-72b\n",
      "Dataset: lung\n",
      "Start at: 2025-08-31 00:55:47.167625\n",
      "11:  TCGA-38-4630  \n",
      "End at: 2025-08-31 00:59:54.045617\n",
      "Elapsed time: 4.114633 minutes (246.877990 seconds).\n",
      "\n",
      "Failed requests: []\n",
      "Failed json loading: 0\n",
      "[]\n",
      "Input Tokens: 16936\n",
      "Output Tokens: 5159\n",
      "Total Tokens: 22095\n",
      "Model qwen2:72b is not in the cost list.\n",
      "\n",
      "The output csv file saved to /project/DPDS/Xiao_lab/s221963/work/2025_LLMsAgents/example_project_small/qwen2-72b_P07/data/lung_qwen2-72b_P07.csv.\n",
      "Computing with qwen2-72b for lung succeed.\n",
      "\n",
      "LLM agent app home: /project/DPDS/Xiao_lab/s221963/work/2025_LLMsAgents/example_project_small/gpt-4.1-mini_P07\n",
      "Model: gpt-4.1-mini\n",
      "Dataset: lung\n",
      "Start at: 2025-08-31 00:59:54.420281\n",
      "11:  TCGA-38-4630  \n",
      "End at: 2025-08-31 01:01:28.154772\n",
      "Elapsed time: 1.562242 minutes (93.734491 seconds).\n",
      "\n",
      "Failed requests: []\n",
      "Failed json loading: 0\n",
      "[]\n",
      "Input Tokens: 16637\n",
      "Output Tokens: 6632\n",
      "Total Tokens: 23269\n",
      "Estimated cost: $0.017266\n",
      "\n",
      "The output csv file saved to /project/DPDS/Xiao_lab/s221963/work/2025_LLMsAgents/example_project_small/gpt-4.1-mini_P07/data/lung_gpt-4.1-mini_P07.csv.\n",
      "Computing with gpt-4.1-mini for lung succeed.\n",
      "\n",
      "LLM agent app home: /project/DPDS/Xiao_lab/s221963/work/2025_LLMsAgents/example_project_small/gpt-4o-mini_P07\n",
      "Model: gpt-4o-mini\n",
      "Dataset: lung\n",
      "Start at: 2025-08-31 01:01:28.546192\n",
      "11:  TCGA-38-4630  \n",
      "End at: 2025-08-31 01:02:15.161097\n",
      "Elapsed time: 0.776915 minutes (46.614905 seconds).\n",
      "\n",
      "Failed requests: []\n",
      "Failed json loading: 0\n",
      "[]\n",
      "Input Tokens: 16637\n",
      "Output Tokens: 5272\n",
      "Total Tokens: 21909\n",
      "Estimated cost: $0.0028118699999999997\n",
      "\n",
      "The output csv file saved to /project/DPDS/Xiao_lab/s221963/work/2025_LLMsAgents/example_project_small/gpt-4o-mini_P07/data/lung_gpt-4o-mini_P07.csv.\n",
      "Computing with gpt-4o-mini for lung succeed.\n",
      "\n",
      "LLM agent app home: /project/DPDS/Xiao_lab/s221963/work/2025_LLMsAgents/example_project_small/medgemma27b_P07\n"
     ]
    },
    {
     "data": {
      "application/vnd.jupyter.widget-view+json": {
       "model_id": "af64f0ea1ede46eb9f10130c8ef73730",
       "version_major": 2,
       "version_minor": 0
      },
      "text/plain": [
       "Loading checkpoint shards:   0%|          | 0/11 [00:00<?, ?it/s]"
      ]
     },
     "metadata": {},
     "output_type": "display_data"
    },
    {
     "name": "stdout",
     "output_type": "stream",
     "text": [
      "Model: medgemma27b\n",
      "Dataset: lung\n",
      "Start at: 2025-08-31 01:02:36.625295\n",
      "0:  TCGA-05-4389  Parsing JSON failed. Error: Expecting value: line 1 column 1 (char 0)\n",
      "Trying to fix json error:\n",
      "Replace double quotes within a string value with single quotes. - Done.\n",
      "1:  TCGA-05-4397  Parsing JSON failed. Error: Expecting value: line 1 column 1 (char 0)\n",
      "Trying to fix json error:\n",
      "Replace double quotes within a string value with single quotes. - Done.\n",
      "2:  TCGA-05-4425  Parsing JSON failed. Error: Expecting value: line 1 column 1 (char 0)\n",
      "Trying to fix json error:\n",
      "Replace double quotes within a string value with single quotes. - Done.\n",
      "3:  TCGA-05-4427  Parsing JSON failed. Error: Expecting value: line 1 column 1 (char 0)\n",
      "Trying to fix json error:\n",
      "Replace double quotes within a string value with single quotes. - Done.\n",
      "4:  TCGA-05-4434  Parsing JSON failed. Error: Expecting value: line 1 column 1 (char 0)\n",
      "Trying to fix json error:\n",
      "Replace double quotes within a string value with single quotes. - Done.\n",
      "5:  TCGA-18-3407  Parsing JSON failed. Error: Expecting value: line 1 column 1 (char 0)\n",
      "Trying to fix json error:\n",
      "Replace double quotes within a string value with single quotes. - Done.\n",
      "6:  TCGA-18-3412  Parsing JSON failed. Error: Expecting value: line 1 column 1 (char 0)\n",
      "Trying to fix json error:\n",
      "Replace double quotes within a string value with single quotes. - Done.\n",
      "7:  TCGA-21-1072  Parsing JSON failed. Error: Expecting value: line 1 column 1 (char 0)\n",
      "Trying to fix json error:\n",
      "Replace double quotes within a string value with single quotes. - Done.\n",
      "8:  TCGA-21-5782  Parsing JSON failed. Error: Expecting value: line 1 column 1 (char 0)\n",
      "Trying to fix json error:\n",
      "Replace double quotes within a string value with single quotes. - Done.\n",
      "9:  TCGA-21-5787  Parsing JSON failed. Error: Expecting value: line 1 column 1 (char 0)\n",
      "Trying to fix json error:\n",
      "Replace double quotes within a string value with single quotes. - Done.\n",
      "10:  TCGA-38-4625  Parsing JSON failed. Error: Expecting value: line 1 column 1 (char 0)\n",
      "Trying to fix json error:\n",
      "Add missing closing Brace after the last KV. - Done.\n",
      "Remove contents outside paired Braces. - Done.\n",
      "Replace double quotes within a string value with single quotes. - Done.\n",
      "11:  TCGA-38-4630  Parsing JSON failed. Error: Expecting value: line 1 column 1 (char 0)\n",
      "Trying to fix json error:\n",
      "Replace double quotes within a string value with single quotes. - Done.\n",
      "json fixed:-)\n",
      "End at: 2025-08-31 01:12:09.191377\n",
      "Elapsed time: 9.542768 minutes (572.566082 seconds).\n",
      "\n",
      "Failed requests: []\n",
      "Failed json loading: 0\n",
      "[]\n",
      "Input Tokens: 0\n",
      "Output Tokens: 0\n",
      "Total Tokens: 0\n",
      "Model google/medgemma-27b-text-it is not in the cost list.\n",
      "\n",
      "The output csv file saved to /project/DPDS/Xiao_lab/s221963/work/2025_LLMsAgents/example_project_small/medgemma27b_P07/data/lung_medgemma27b_P07.csv.\n",
      "Computing with medgemma27b for lung succeed.\n",
      "\n",
      "\n",
      "End at: 2025-08-31 01:12:09.449091\n",
      "Elapsed time: 20.286497 minutes (1217.189826 seconds).\n",
      "\n"
     ]
    }
   ],
   "source": [
    "# launch each specified llm agent app\n",
    "ensemLLMs.launch()"
   ]
  },
  {
   "cell_type": "code",
   "execution_count": 3,
   "id": "a2cfc83f-c6a5-43c0-bbce-5d02a8e561d6",
   "metadata": {},
   "outputs": [
    {
     "name": "stdout",
     "output_type": "stream",
     "text": [
      "Rename /project/DPDS/Xiao_lab/s221963/work/2025_LLMsAgents/example_project_small/llama31-70b_P07/data/lung_llama31-70b_P07.csv to /project/DPDS/Xiao_lab/s221963/work/2025_LLMsAgents/example_project_small/llama31-70b_P07/data/lung_llama31-70b_P07_raw.csv, to keep LLM's original output.\n",
      "Save the processed data into /project/DPDS/Xiao_lab/s221963/work/2025_LLMsAgents/example_project_small/llama31-70b_P07/data/lung_llama31-70b_P07.csv\n",
      "Rename /project/DPDS/Xiao_lab/s221963/work/2025_LLMsAgents/example_project_small/qwen2-72b_P07/data/lung_qwen2-72b_P07.csv to /project/DPDS/Xiao_lab/s221963/work/2025_LLMsAgents/example_project_small/qwen2-72b_P07/data/lung_qwen2-72b_P07_raw.csv, to keep LLM's original output.\n",
      "Save the processed data into /project/DPDS/Xiao_lab/s221963/work/2025_LLMsAgents/example_project_small/qwen2-72b_P07/data/lung_qwen2-72b_P07.csv\n",
      "Rename /project/DPDS/Xiao_lab/s221963/work/2025_LLMsAgents/example_project_small/gpt-4.1-mini_P07/data/lung_gpt-4.1-mini_P07.csv to /project/DPDS/Xiao_lab/s221963/work/2025_LLMsAgents/example_project_small/gpt-4.1-mini_P07/data/lung_gpt-4.1-mini_P07_raw.csv, to keep LLM's original output.\n",
      "Save the processed data into /project/DPDS/Xiao_lab/s221963/work/2025_LLMsAgents/example_project_small/gpt-4.1-mini_P07/data/lung_gpt-4.1-mini_P07.csv\n",
      "Rename /project/DPDS/Xiao_lab/s221963/work/2025_LLMsAgents/example_project_small/gpt-4o-mini_P07/data/lung_gpt-4o-mini_P07.csv to /project/DPDS/Xiao_lab/s221963/work/2025_LLMsAgents/example_project_small/gpt-4o-mini_P07/data/lung_gpt-4o-mini_P07_raw.csv, to keep LLM's original output.\n",
      "Save the processed data into /project/DPDS/Xiao_lab/s221963/work/2025_LLMsAgents/example_project_small/gpt-4o-mini_P07/data/lung_gpt-4o-mini_P07.csv\n",
      "Rename /project/DPDS/Xiao_lab/s221963/work/2025_LLMsAgents/example_project_small/medgemma27b_P07/data/lung_medgemma27b_P07.csv to /project/DPDS/Xiao_lab/s221963/work/2025_LLMsAgents/example_project_small/medgemma27b_P07/data/lung_medgemma27b_P07_raw.csv, to keep LLM's original output.\n",
      "Save the processed data into /project/DPDS/Xiao_lab/s221963/work/2025_LLMsAgents/example_project_small/medgemma27b_P07/data/lung_medgemma27b_P07.csv\n"
     ]
    }
   ],
   "source": [
    "# postprocessing\n",
    "\n",
    "for app in ensemLLMs.llm_apps_specs:\n",
    "    predictor_home_path = os.path.join(ensemLLMs.home_path, f\"{app['model_id']}_{ensemLLMs.prompt_id}\")\n",
    "    output_data_filename = f\"{ensemLLMs.dataset_id}_{app['model_id']}_{ensemLLMs.prompt_id}\"\n",
    "    output_data_path = os.path.join(predictor_home_path,f\"data/{output_data_filename}.csv\")\n",
    "    output_rawdata_path = os.path.join(predictor_home_path,f\"data/{output_data_filename}_raw.csv\")\n",
    "    # print(output_data_path)\n",
    "    \n",
    "    # infer new categorical value from old one in var 'AF_Diagnosis' for each LLM output ---------------------------\n",
    "    \n",
    "    # rename original llm output data file by adding '_raw' in the end\n",
    "    if not os.path.exists(output_rawdata_path):\n",
    "        os.rename(output_data_path,output_rawdata_path)\n",
    "        print(f\"Rename {output_data_path} to {output_rawdata_path}, to keep LLM's original output.\")\n",
    "    \n",
    "    df = pd.read_csv(output_rawdata_path,keep_default_na=False)\n",
    "\n",
    "\n",
    "    # term_mapping\n",
    "    term_mapping = {'T1a': 'T1', 'T1b': 'T1', 'T1c': 'T1', 'T2a': 'T2', 'T2b': 'T2', \n",
    "    'pT1a': 'T1', 'pT1b': 'T1', 'pT2a': 'T2', 'pT2b': 'T2',\n",
    "    'pT1': 'T1', 'pT2': 'T2', 'pT3': 'T3', 'pT4': 'T4',\n",
    "    'TX': 'Unknown', \n",
    "    'N1a': 'N1', 'N1b': 'N1', 'N2a': 'N2', 'N2b': 'N2', \n",
    "    'pN0': 'N0', 'pN1': 'N1', 'pN2': 'N2', \n",
    "    'pN1a': 'N1', 'pN1b': 'N1', 'pN2a': 'N2', 'pN2b': 'N2', \n",
    "    'No': 'N0', 'NO': 'N0', 'pNo': 'N0', 'pNO': 'N0', \n",
    "    'Nx': 'Unknown', 'NX': 'Unknown',\n",
    "    'IA': 'Stage I', 'IB': 'Stage I',\n",
    "    'IIA': 'Stage II', 'IIB': 'Stage II',\n",
    "    'IIIA': 'Stage III', 'IIIB': 'Stage III',\n",
    "    'IV': 'Stage IV',\n",
    "    'Stage IA1': 'Stage I', 'Stage IA2': 'Stage I', 'Stage IA3': 'Stage I',\n",
    "    'Stage IA': 'Stage I', 'Stage IB': 'Stage I',\n",
    "    'Stage IIA': 'Stage II', 'Stage IIB': 'Stage II',\n",
    "    'Stage IIIA': 'Stage III', 'Stage IIIB': 'Stage III',\n",
    "    'Stage X': 'Unknown', \n",
    "    'Lung Adenosquamous Carcinoma': 'Other',   \n",
    "    'Adenosquamous carcinoma': 'Other',              \n",
    "    'Adenosquamous Carcinoma': 'Other',   \n",
    "    'Other, non-small cell carcinoma': 'Other',\n",
    "    'Other, adenosquamous carcinoma': 'Other',\n",
    "    '[Discrepancy]': 'Unknown', \n",
    "    'Cannot be determined': 'Unknown',\n",
    "    'Not specified': 'Unknown',\n",
    "    'Unknown': 'Unknown',\n",
    "    'nan': 'Unknown',\n",
    "    '': 'Unknown'                \n",
    "    }    \n",
    "\n",
    "    # merge small categories to larger categories\n",
    "    df['pT_cat'] = (df['pT'].astype(str)).replace(term_mapping)\n",
    "    df['pT_cat_GT'] = (df['pT_GT'].astype(str)).replace(term_mapping)\n",
    "    \n",
    "    df['pN_cat'] = (df['pN'].astype(str)).replace(term_mapping)\n",
    "    df['pN_cat_GT'] = (df['pN_GT'].astype(str)).replace(term_mapping)\n",
    "    \n",
    "    df['tumor_stage_cat'] = (df['tumor_stage'].astype(str)).replace(term_mapping)\n",
    "    df['tumor_stage_cat_GT'] = (df['tumor_stage_GT'].astype(str)).replace(term_mapping)\n",
    "    \n",
    "    df['histologic_diagnosis_cat'] = (df['histologic_diagnosis'].astype(str)).replace(term_mapping)\n",
    "    df['histologic_diagnosis_cat_GT'] = (df['histologic_diagnosis_GT'].astype(str)).replace(term_mapping)\n",
    "\n",
    "    # after postprocessing, the var list to be aggregated from each LLM output\n",
    "    # here, just add in each new category, such as pT_cat\n",
    "    extended_var_list = ['tumor_size_max_dimension_stated', \n",
    "                         'tumor_size_max_dimension', \n",
    "                         'tumor_size_max_dimension_CD', \n",
    "                         'tumor_size_max_dimension_evidence', \n",
    "                         'pT_stated', \n",
    "                         'pT', \n",
    "                         'pT_cat', \n",
    "                         'pT_CD', \n",
    "                         'pT_evidence', \n",
    "                         'pN_stated', \n",
    "                         'pN', \n",
    "                         'pN_cat', \n",
    "                         'pN_CD', \n",
    "                         'pN_evidence', \n",
    "                         'tumor_stage_stated', \n",
    "                         'tumor_stage', \n",
    "                         'tumor_stage_cat', \n",
    "                         'tumor_stage_CD', \n",
    "                         'tumor_stage_evidence', \n",
    "                         'histologic_diagnosis_stated', \n",
    "                         'histologic_diagnosis', \n",
    "                         'histologic_diagnosis_cat', \n",
    "                         'histologic_diagnosis_CD', \n",
    "                         'histologic_diagnosis_evidence',\n",
    "                        ]\n",
    "    # the new var_val_list used for voting\n",
    "    var_val_dic_for_voting = {\n",
    "        \"pT_cat\": [\"T1\",\"T2\",\"T3\",\"T4\",\"Unknown\"],\n",
    "        \"pN_cat\": [\"N0\",\"N1\",\"N2\",\"Unknown\"],\n",
    "        \"tumor_stage_cat\": [\"Stage I\",\"Stage II\",\"Stage III\",\"Stage IV\",\"Unknown\"],\n",
    "        \"histologic_diagnosis_cat\": [\"Lung Adenocarcinoma\",\"Lung Squamous Cell Carcinoma\",\"Other\",\"Unknown\"]\n",
    "    }\n",
    "    \n",
    "    df.to_csv(output_data_path, index=False)\n",
    "    print(f\"Save the processed data into {output_data_path}\")\n",
    "    "
   ]
  },
  {
   "cell_type": "code",
   "execution_count": 4,
   "id": "b2efb3f7-9836-4f35-810a-bf9da223efd3",
   "metadata": {},
   "outputs": [
    {
     "name": "stdout",
     "output_type": "stream",
     "text": [
      "\n",
      "Read in prediction from llama31-70b_P07/data/\n",
      "\n",
      "Read in prediction from qwen2-72b_P07/data/\n",
      "\n",
      "Read in prediction from gpt-4.1-mini_P07/data/\n",
      "\n",
      "Read in prediction from gpt-4o-mini_P07/data/\n",
      "\n",
      "Read in prediction from medgemma27b_P07/data/\n",
      "\n",
      "Save the aggregated data into data/lung_small_example_project_aggregated.csv\n"
     ]
    }
   ],
   "source": [
    "# aggregate each llm agent's opinions\n",
    "df = ensemLLMs.aggregate(revised_var_list=extended_var_list)\n"
   ]
  },
  {
   "cell_type": "code",
   "execution_count": 5,
   "id": "7aaaa590-2a67-44eb-876c-039723937a1a",
   "metadata": {},
   "outputs": [
    {
     "name": "stdout",
     "output_type": "stream",
     "text": [
      "Voting by predictors: ['llama31-70b_P07', 'qwen2-72b_P07', 'gpt-4.1-mini_P07', 'gpt-4o-mini_P07', 'medgemma27b_P07']\n",
      "Vote result saved to data/lung_small_example_project_voted.csv.\n"
     ]
    }
   ],
   "source": [
    "# vote by llm agents\n",
    "df_voted = ensemLLMs.vote(df=df,revised_var_val_dict=var_val_dic_for_voting)"
   ]
  },
  {
   "cell_type": "code",
   "execution_count": null,
   "id": "82a97ab3-81c7-4a13-972f-231ddb8f5a5e",
   "metadata": {},
   "outputs": [],
   "source": []
  },
  {
   "cell_type": "code",
   "execution_count": null,
   "id": "c0a95148-4d0e-4f44-b7b1-0a8cf32b8156",
   "metadata": {},
   "outputs": [],
   "source": []
  },
  {
   "cell_type": "markdown",
   "id": "1ca6b7d0-13bb-45c6-a26d-e600227c6234",
   "metadata": {},
   "source": [
    "# Evaluation"
   ]
  },
  {
   "cell_type": "code",
   "execution_count": 6,
   "id": "4f93b67f-7c2a-4def-bd7a-2fd3e0fb8812",
   "metadata": {},
   "outputs": [
    {
     "data": {
      "image/png": "[encoded data removed]",
      "text/plain": [
       "<Figure size 300x300 with 2 Axes>"
      ]
     },
     "metadata": {},
     "output_type": "display_data"
    },
    {
     "name": "stdout",
     "output_type": "stream",
     "text": [
      "Accuracy: 1.0\n",
      "Cohen Kappa: 1.0\n",
      "Cases: 12\n"
     ]
    },
    {
     "data": {
      "image/png": "[encoded data removed]",
      "text/plain": [
       "<Figure size 300x300 with 2 Axes>"
      ]
     },
     "metadata": {},
     "output_type": "display_data"
    },
    {
     "name": "stdout",
     "output_type": "stream",
     "text": [
      "Accuracy: 1.0\n",
      "Cohen Kappa: 1.0\n",
      "Cases: 12\n"
     ]
    },
    {
     "data": {
      "image/png": "[encoded data removed]",
      "text/plain": [
       "<Figure size 400x400 with 2 Axes>"
      ]
     },
     "metadata": {},
     "output_type": "display_data"
    },
    {
     "name": "stdout",
     "output_type": "stream",
     "text": [
      "Accuracy: 0.75\n",
      "Cohen Kappa: 0.6436\n",
      "F1 (Stage I): 0.7273\n",
      "Recall (Stage I): 0.5714\n",
      "Precision (Stage I): 1.0\n",
      "Jaccard score (Stage I)): 0.5714\n",
      "F1 (Stage II): 0.5714\n",
      "Recall (Stage II): 1.0\n",
      "Precision (Stage II): 0.4\n",
      "Jaccard score (Stage II)): 0.4\n",
      "F1 (Stage III): 1.0\n",
      "Recall (Stage III): 1.0\n",
      "Precision (Stage III): 1.0\n",
      "Jaccard score (Stage III)): 1.0\n",
      "F1 (Stage IV): 1.0\n",
      "Recall (Stage IV): 1.0\n",
      "Precision (Stage IV): 1.0\n",
      "Jaccard score (Stage IV)): 1.0\n",
      "Cases: 12\n"
     ]
    },
    {
     "data": {
      "image/png": "[encoded data removed]",
      "text/plain": [
       "<Figure size 300x300 with 2 Axes>"
      ]
     },
     "metadata": {},
     "output_type": "display_data"
    },
    {
     "name": "stdout",
     "output_type": "stream",
     "text": [
      "Accuracy: 1.0\n",
      "Cohen Kappa: 1.0\n",
      "Cases: 12\n"
     ]
    }
   ],
   "source": [
    "# evaluate\n",
    "from evaluate import *\n",
    "\n",
    "df_metrics_pT = evaluate_attribute(df=df_voted, \n",
    "                                   col_ref='pT_cat_GT', \n",
    "                                   col_pred='pT_cat_voted', \n",
    "                                   plot_title='pT', \n",
    "                                   predictor='ensemble_llms',\n",
    "                                   # metrics_for_vals=[],\n",
    "                                  )\n",
    "\n",
    "df_metrics_pN = evaluate_attribute(df=df_voted, \n",
    "                                   col_ref='pN_cat_GT', \n",
    "                                   col_pred='pN_cat_voted', \n",
    "                                   plot_title='pN', \n",
    "                                   predictor='ensemble_llms',\n",
    "                                   # metrics_for_vals=[],\n",
    "                                  )\n",
    "\n",
    "df_metrics_TS = evaluate_attribute(df=df_voted, \n",
    "                                   col_ref='tumor_stage_cat_GT', \n",
    "                                   col_pred='tumor_stage_cat_voted', \n",
    "                                   plot_title='Tumor Stage', \n",
    "                                   predictor='ensemble_llms',\n",
    "                                   metrics_for_vals=['Stage I','Stage II','Stage III','Stage IV'],\n",
    "                                  )\n",
    "\n",
    "df_metrics_histo = evaluate_attribute(df=df_voted, \n",
    "                                   col_ref='histologic_diagnosis_cat_GT', \n",
    "                                   col_pred='histologic_diagnosis_cat_voted', \n",
    "                                   plot_title='Histologic Diagnosis', \n",
    "                                   predictor='ensemble_llms',\n",
    "                                   # metrics_for_vals=[],\n",
    "                                  )\n"
   ]
  },
  {
   "cell_type": "code",
   "execution_count": null,
   "id": "a33fce57-0075-4ab8-8fba-0476d44bbf72",
   "metadata": {},
   "outputs": [],
   "source": []
  },
  {
   "cell_type": "markdown",
   "id": "ceb60fb5-406d-40d8-a102-dad7d94be3be",
   "metadata": {},
   "source": [
    "# Alt 2: Run EnsemLLMs end-to-end\n",
    "Use, when no postprocessing needed"
   ]
  },
  {
   "cell_type": "code",
   "execution_count": null,
   "id": "4d2914da-9984-4463-89e0-979859a498f4",
   "metadata": {},
   "outputs": [],
   "source": [
    "%run setup.py    \n",
    "from ensemble_llms_app import run\n",
    "\n",
    "# launch the ensemble project in one-shot, **if no postprocessing needed**.\n",
    "run()"
   ]
  },
  {
   "cell_type": "code",
   "execution_count": null,
   "id": "484e963e-7ee3-4290-9cb2-9b55ec824447",
   "metadata": {},
   "outputs": [],
   "source": []
  }
 ],
 "metadata": {
  "kernelspec": {
   "display_name": "ds_py311_mamba",
   "language": "python",
   "name": "ds_py311_mamba"
  },
  "language_info": {
   "codemirror_mode": {
    "name": "ipython",
    "version": 3
   },
   "file_extension": ".py",
   "mimetype": "text/x-python",
   "name": "python",
   "nbconvert_exporter": "python",
   "pygments_lexer": "ipython3",
   "version": "3.13.3"
  }
 },
 "nbformat": 4,
 "nbformat_minor": 5
}
