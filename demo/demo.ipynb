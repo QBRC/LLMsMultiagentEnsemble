{
 "cells": [
  {
   "cell_type": "markdown",
   "id": "d5fa1a8b-073b-4ecb-a4e0-0a368e331901",
   "metadata": {},
   "source": [
    "# Preprocee input data"
   ]
  },
  {
   "cell_type": "code",
   "execution_count": 1,
   "id": "56489ff0-536b-43fa-bbd7-4355a39d3ebb",
   "metadata": {},
   "outputs": [],
   "source": [
    "import os, sys\n",
    "import pandas as pd\n",
    "\n",
    "# import util functions from local package 'util'\n",
    "package_dir = os.path.abspath(f\"./util\")\n",
    "if package_dir not in sys.path:\n",
    "    sys.path.insert(0, package_dir)\n",
    "from util import remove_irrelevant_text\n",
    "\n",
    "df = pd.read_csv('./data/ECG_Absert.csv')\n",
    "\n",
    "# remove misleading but current trace irrelevant heading and ending.\n",
    "# replace '\\n' with '   '\n",
    "# remove space in start and end \n",
    "df.rename(columns={'text':'text_original'},inplace=True)\n",
    "df['text'] = df['text_original'].apply(lambda x: remove_irrelevant_text(x).replace('\\n', '   ').strip())\n",
    "\n",
    "df = df[df['text']!='']\n",
    "\n",
    "df.to_csv('./data/ECG_data.csv', index=False)\n"
   ]
  },
  {
   "cell_type": "markdown",
   "id": "3b3f11e6-63c2-4dec-a7ff-ce9d10f63387",
   "metadata": {},
   "source": [
    "# Launch EnsemLLMs "
   ]
  },
  {
   "cell_type": "markdown",
   "id": "eb53c638-0438-4ec3-900b-37fdd24b0378",
   "metadata": {},
   "source": [
    "## Run EnsemLLMs end-to-end\n",
    "(1) Init: load configuration for EnsemLLMs\n",
    "\n",
    "(2) Launch: run each LLM agent for the task\n",
    "\n",
    "(3) Aggregate: aggregate the results from each LLM agent \n",
    "\n",
    "(4) Vote: Vote for final result"
   ]
  },
  {
   "cell_type": "code",
   "execution_count": 2,
   "id": "5f9922e7-38d9-43f3-af75-9e76db614107",
   "metadata": {},
   "outputs": [],
   "source": [
    "# note:\n",
    "# skip this method, because later var_val_list configuration will be changed,\n",
    "# as we infer new AF values from LLMs' output values.\n",
    "\n",
    "# %run setup.py    \n",
    "# from ensemble_llms_app import run\n",
    "\n",
    "# # launch the ensemble project and run each specified LLM agent.\n",
    "# run()\n"
   ]
  },
  {
   "cell_type": "markdown",
   "id": "ecf54bf5-92df-40e3-b55f-2a7cfa8afee8",
   "metadata": {},
   "source": [
    "## Launch EnsemLLMs step-by-step\n",
    "\n",
    "(1) Init: load configuration for EnsemLLMs \n",
    "\n",
    "(2) Launch: run each LLM agent for the task\n",
    "\n",
    "(3) Infer new values of AF_Diagnosis from each LLM's output\n",
    "\n",
    "(4) Aggregate: aggregate the results from each LLM agent \n",
    "\n",
    "(5) Vote: Vote for final result"
   ]
  },
  {
   "cell_type": "code",
   "execution_count": 3,
   "id": "d1666bcc-b0a1-4daa-9a90-952f25aebba5",
   "metadata": {},
   "outputs": [],
   "source": [
    "import os\n",
    "import pandas as pd\n",
    "import json\n",
    "\n",
    "%run setup.py    \n",
    "from ensemble_llms_app import run\n"
   ]
  },
  {
   "cell_type": "code",
   "execution_count": 4,
   "id": "af796014-9f4e-4c9f-9b4e-84e60a3511b9",
   "metadata": {},
   "outputs": [
    {
     "name": "stdout",
     "output_type": "stream",
     "text": [
      "Home path: /project/DPDS/Xiao_lab/s221963/2025_LLMsAgents/demo\n"
     ]
    }
   ],
   "source": [
    "# Load configuration of the ensemble project.\n",
    "ensemLLMs = run('init')\n"
   ]
  },
  {
   "cell_type": "code",
   "execution_count": 5,
   "id": "cc495f6c-6940-4726-aa29-7de07bb69ce2",
   "metadata": {},
   "outputs": [
    {
     "name": "stdout",
     "output_type": "stream",
     "text": [
      "Home path: /project/DPDS/Xiao_lab/s221963/2025_LLMsAgents/demo\n",
      "Start at: 2025-08-24 23:19:39.035482\n",
      "LLM agent app home path: /project/DPDS/Xiao_lab/s221963/2025_LLMsAgents/demo/beluga-70b_S02\n",
      "Model: beluga-70b\n",
      "Dataset: ECG\n",
      "Start at: 2025-08-24 23:19:39.060361\n",
      "0:  R200199  \n",
      "End at: 2025-08-24 23:19:56.032452\n",
      "Elapsed time: 0.282861 minutes (16.971655 seconds).\n",
      "\n",
      "Failed requests: []\n",
      "Failed json loading: 0\n",
      "[]\n",
      "Input Tokens: 1291\n",
      "Output Tokens: 119\n",
      "Total Tokens: 1410\n",
      "Model stable-beluga:70b is not in the cost list.\n",
      "\n",
      "The output csv file saved to /project/DPDS/Xiao_lab/s221963/2025_LLMsAgents/demo/beluga-70b_S02/data/ECG_beluga-70b_S02.csv.\n",
      "Computing with beluga-70b for ECG succeed.\n",
      "\n",
      "LLM agent app home path: /project/DPDS/Xiao_lab/s221963/2025_LLMsAgents/demo/gemma7b_S02\n",
      "Model: gemma7b\n",
      "Dataset: ECG\n",
      "Start at: 2025-08-24 23:19:56.062899\n",
      "0:  R200199  \n",
      "End at: 2025-08-24 23:20:01.037858\n",
      "Elapsed time: 0.082916 minutes (4.974957 seconds).\n",
      "\n",
      "Failed requests: []\n",
      "Failed json loading: 0\n",
      "[]\n",
      "Input Tokens: 1068\n",
      "Output Tokens: 89\n",
      "Total Tokens: 1157\n",
      "Model gemma:7b is not in the cost list.\n",
      "\n",
      "The output csv file saved to /project/DPDS/Xiao_lab/s221963/2025_LLMsAgents/demo/gemma7b_S02/data/ECG_gemma7b_S02.csv.\n",
      "Computing with gemma7b for ECG succeed.\n",
      "\n",
      "LLM agent app home path: /project/DPDS/Xiao_lab/s221963/2025_LLMsAgents/demo/llama3-70b_S02\n",
      "Model: llama3-70b\n",
      "Dataset: ECG\n",
      "Start at: 2025-08-24 23:20:01.065188\n",
      "0:  R200199  \n",
      "End at: 2025-08-24 23:20:17.897136\n",
      "Elapsed time: 0.280532 minutes (16.831948 seconds).\n",
      "\n",
      "Failed requests: []\n",
      "Failed json loading: 0\n",
      "[]\n",
      "Input Tokens: 1179\n",
      "Output Tokens: 60\n",
      "Total Tokens: 1239\n",
      "Model llama3:70b is not in the cost list.\n",
      "\n",
      "The output csv file saved to /project/DPDS/Xiao_lab/s221963/2025_LLMsAgents/demo/llama3-70b_S02/data/ECG_llama3-70b_S02.csv.\n",
      "Computing with llama3-70b for ECG succeed.\n",
      "\n",
      "LLM agent app home path: /project/DPDS/Xiao_lab/s221963/2025_LLMsAgents/demo/mistral-openorca_S02\n",
      "Model: mistral-openorca\n",
      "Dataset: ECG\n",
      "Start at: 2025-08-24 23:20:17.924088\n",
      "0:  R200199  \n",
      "End at: 2025-08-24 23:20:21.171717\n",
      "Elapsed time: 0.054127 minutes (3.247627 seconds).\n",
      "\n",
      "Failed requests: []\n",
      "Failed json loading: 0\n",
      "[]\n",
      "Input Tokens: 1271\n",
      "Output Tokens: 124\n",
      "Total Tokens: 1395\n",
      "Model mistral-openorca is not in the cost list.\n",
      "\n",
      "The output csv file saved to /project/DPDS/Xiao_lab/s221963/2025_LLMsAgents/demo/mistral-openorca_S02/data/ECG_mistral-openorca_S02.csv.\n",
      "Computing with mistral-openorca for ECG succeed.\n",
      "\n",
      "LLM agent app home path: /project/DPDS/Xiao_lab/s221963/2025_LLMsAgents/demo/openhermes_S02\n",
      "Model: openhermes\n",
      "Dataset: ECG\n",
      "Start at: 2025-08-24 23:20:21.198335\n",
      "0:  R200199  \n",
      "End at: 2025-08-24 23:20:26.303259\n",
      "Elapsed time: 0.085082 minutes (5.104919 seconds).\n",
      "\n",
      "Failed requests: []\n",
      "Failed json loading: 0\n",
      "[]\n",
      "Input Tokens: 1270\n",
      "Output Tokens: 166\n",
      "Total Tokens: 1436\n",
      "Model openhermes is not in the cost list.\n",
      "\n",
      "The output csv file saved to /project/DPDS/Xiao_lab/s221963/2025_LLMsAgents/demo/openhermes_S02/data/ECG_openhermes_S02.csv.\n",
      "Computing with openhermes for ECG succeed.\n",
      "\n",
      "LLM agent app home path: /project/DPDS/Xiao_lab/s221963/2025_LLMsAgents/demo/qwen-72b_S02\n",
      "Model: qwen-72b\n",
      "Dataset: ECG\n",
      "Start at: 2025-08-24 23:20:26.331666\n",
      "0:  R200199  \n",
      "End at: 2025-08-24 23:20:44.856581\n",
      "Elapsed time: 0.308749 minutes (18.524913 seconds).\n",
      "\n",
      "Failed requests: []\n",
      "Failed json loading: 0\n",
      "[]\n",
      "Input Tokens: 1177\n",
      "Output Tokens: 72\n",
      "Total Tokens: 1249\n",
      "Model qwen:72b is not in the cost list.\n",
      "\n",
      "The output csv file saved to /project/DPDS/Xiao_lab/s221963/2025_LLMsAgents/demo/qwen-72b_S02/data/ECG_qwen-72b_S02.csv.\n",
      "Computing with qwen-72b for ECG succeed.\n",
      "\n",
      "LLM agent app home path: /project/DPDS/Xiao_lab/s221963/2025_LLMsAgents/demo/qwen2-72b_S02\n",
      "Model: qwen2-72b\n",
      "Dataset: ECG\n",
      "Start at: 2025-08-24 23:20:44.997561\n",
      "0:  R200199  \n",
      "End at: 2025-08-24 23:21:06.419319\n",
      "Elapsed time: 0.357029 minutes (21.421757 seconds).\n",
      "\n",
      "Failed requests: []\n",
      "Failed json loading: 0\n",
      "[]\n",
      "Input Tokens: 1093\n",
      "Output Tokens: 71\n",
      "Total Tokens: 1164\n",
      "Model qwen2:72b is not in the cost list.\n",
      "\n",
      "The output csv file saved to /project/DPDS/Xiao_lab/s221963/2025_LLMsAgents/demo/qwen2-72b_S02/data/ECG_qwen2-72b_S02.csv.\n",
      "Computing with qwen2-72b for ECG succeed.\n",
      "\n",
      "\n",
      "End at: 2025-08-24 23:21:06.422104\n",
      "Elapsed time: 1.456444 minutes (87.386622 seconds).\n",
      "\n"
     ]
    }
   ],
   "source": [
    "# launch the ensemble project and run each specified LLM agent.\n",
    "ensemLLMs = run('launch')\n"
   ]
  },
  {
   "cell_type": "code",
   "execution_count": 6,
   "id": "5c8d2b76-16be-43d3-881f-e3469c10d0be",
   "metadata": {},
   "outputs": [],
   "source": [
    "# postprocessing\n",
    "\n",
    "for app in ensemLLMs.llm_apps_specs:\n",
    "    predictor_home_path = os.path.join(ensemLLMs.home_path, f\"{app['model_id']}_{ensemLLMs.prompt_id}\")\n",
    "    output_data_filename = f\"{ensemLLMs.dataset_id}_{app['model_id']}_{ensemLLMs.prompt_id}\"\n",
    "    output_data_path = os.path.join(predictor_home_path,f\"data/{output_data_filename}.csv\")\n",
    "    output_rawdata_path = os.path.join(predictor_home_path,f\"data/{output_data_filename}_raw.csv\")\n",
    "    # print(output_data_path)\n",
    "    \n",
    "    # infer new categorical value from old one in var 'AF_Diagnosis' for each LLM output ---------------------------\n",
    "    \n",
    "    # rename original llm output data file by adding '_raw' in the end\n",
    "    if not os.path.exists(output_rawdata_path):\n",
    "        os.rename(output_data_path,output_rawdata_path)\n",
    "        # shutil.copy(src,dst)\n",
    "    \n",
    "    df = pd.read_csv(output_rawdata_path,keep_default_na=False)\n",
    "\n",
    "    # keep original value in col 'AF_Diagnosis_raw'\n",
    "    df.rename(columns={'AF_Diagnosis':'AF_Diagnosis_raw'},inplace=True)\n",
    "    df['AF_Diagnosis'] = ''\n",
    "\n",
    "    # infer new value\n",
    "    df['AF_Diagnosis'] = df['AF_Diagnosis_raw'].apply(lambda x: 'AF' if x in ['AF', 'Probable AF', 'AFib', 'AFL'] \n",
    "                                                                   else 'Uncertain' if x in ['Possible AF', 'Not Specified']\n",
    "                                                                   else 'Non-AF' if x in ['Non-AF']\n",
    "                                                                   else 'NA')\n",
    "    # the new values for 'AF_Diagnosis' makes original ensemLLMs' config of var_val_list need changing to new var_val_list\n",
    "    var_val_list = \"\"\"{\"AF_Diagnosis\": [\"AF\",\"Uncertain\",\"Non-AF\"]}\"\"\"\n",
    "    \n",
    "    df.to_csv(output_data_path, index=False)\n",
    "    "
   ]
  },
  {
   "cell_type": "code",
   "execution_count": 7,
   "id": "a2dfd262-6ad7-452a-a0cb-5cb3e8606022",
   "metadata": {},
   "outputs": [
    {
     "name": "stdout",
     "output_type": "stream",
     "text": [
      "Home path: /project/DPDS/Xiao_lab/s221963/2025_LLMsAgents/demo\n",
      "\n",
      "Read in prediction from /project/DPDS/Xiao_lab/s221963/2025_LLMsAgents/demo/beluga-70b_S02/data/\n",
      "\n",
      "Read in prediction from /project/DPDS/Xiao_lab/s221963/2025_LLMsAgents/demo/gemma7b_S02/data/\n",
      "\n",
      "Read in prediction from /project/DPDS/Xiao_lab/s221963/2025_LLMsAgents/demo/llama3-70b_S02/data/\n",
      "\n",
      "Read in prediction from /project/DPDS/Xiao_lab/s221963/2025_LLMsAgents/demo/mistral-openorca_S02/data/\n",
      "\n",
      "Read in prediction from /project/DPDS/Xiao_lab/s221963/2025_LLMsAgents/demo/openhermes_S02/data/\n",
      "\n",
      "Read in prediction from /project/DPDS/Xiao_lab/s221963/2025_LLMsAgents/demo/qwen-72b_S02/data/\n",
      "\n",
      "Read in prediction from /project/DPDS/Xiao_lab/s221963/2025_LLMsAgents/demo/qwen2-72b_S02/data/\n",
      "\n",
      "Save the aggregated data into data/ECG_Free7Demo_aggregated.csv\n",
      "Home path: /project/DPDS/Xiao_lab/s221963/2025_LLMsAgents/demo\n",
      "\n",
      "{\"AF_Diagnosis\": [\"AF\",\"Uncertain\",\"Non-AF\"]}\n",
      "{'AF_Diagnosis': ['AF', 'Uncertain', 'Non-AF']}\n",
      "\n",
      "Voting by predictors: ['beluga-70b_S02', 'gemma7b_S02', 'llama3-70b_S02', 'mistral-openorca_S02', 'openhermes_S02', 'qwen-72b_S02', 'qwen2-72b_S02']\n",
      "Vote result saved to data/ECG_Free7Demo_voted.csv.\n"
     ]
    },
    {
     "data": {
      "text/plain": [
       "<ensemble_llms_app.EnsembleLLMsApp at 0x7fdd2238b490>"
      ]
     },
     "execution_count": 7,
     "metadata": {},
     "output_type": "execute_result"
    }
   ],
   "source": [
    "run('aggregate')\n",
    "\n",
    "# use the new var_val_list for configuration\n",
    "run(command='vote', var_val_list=var_val_list)\n"
   ]
  },
  {
   "cell_type": "code",
   "execution_count": null,
   "id": "40796cd3-59fb-406d-8426-396b70b5b731",
   "metadata": {},
   "outputs": [],
   "source": []
  },
  {
   "cell_type": "code",
   "execution_count": null,
   "id": "e86b8100-a279-4277-bb20-15b0fdfe6082",
   "metadata": {},
   "outputs": [],
   "source": []
  }
 ],
 "metadata": {
  "kernelspec": {
   "display_name": "env121c_bio",
   "language": "python",
   "name": "env121c_bio"
  },
  "language_info": {
   "codemirror_mode": {
    "name": "ipython",
    "version": 3
   },
   "file_extension": ".py",
   "mimetype": "text/x-python",
   "name": "python",
   "nbconvert_exporter": "python",
   "pygments_lexer": "ipython3",
   "version": "3.10.13"
  }
 },
 "nbformat": 4,
 "nbformat_minor": 5
}
